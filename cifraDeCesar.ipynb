{
 "cells": [
  {
   "cell_type": "code",
   "execution_count": 112,
   "metadata": {},
   "outputs": [],
   "source": [
    "def cifraDeCesar(deslocamento, texto):\n",
    "\n",
    "    #agora iniciaremos definindo o alfabeto que iremos trabalhar\n",
    "    alfabeto = \"ABCDEFGHIJKLMNOPQRSTUVWXYZ\"\n",
    "\n",
    "    #deixando todas as letras do texto a ser inserido em maiúsculo\n",
    "    texto = texto.upper()\n",
    "\n",
    "    #inicializaremos a variavel do texto cifrado que retornará\n",
    "    textoCifrado = \"\"\n",
    "\n",
    "    #percorrendo o texto \n",
    "    for i in texto:\n",
    "        #pega o indice da letra [i] no texto e a recupera no afalbeto, após isso, faz uso do módulo da divisão para ter certeza\n",
    "        #que o índice da letra cifrada esteja dentro do escopo de 0 a 25\n",
    "        k = (alfabeto.index(i) + deslocamento)%26\n",
    "\n",
    "        #concatena o caractere cifrado ao nosso texto cifrado\n",
    "        textoCifrado = textoCifrado + alfabeto[k]\n",
    "\n",
    "    return textoCifrado"
   ]
  },
  {
   "cell_type": "code",
   "execution_count": 113,
   "metadata": {},
   "outputs": [
    {
     "name": "stdout",
     "output_type": "stream",
     "text": [
      "Texto original:  OLAQUERIDA\n",
      "Texto cifrado:  QNCSWGTKFC\n",
      "Texto descifrado:  OLAQUERIDA\n"
     ]
    }
   ],
   "source": [
    "#nosso texto que será cifrado\n",
    "texto = input(\"Digite o texto a ser cifrado\")\n",
    "\n",
    "#definindo o deslocamento\n",
    "deslocamento = int(input(\"Digite o deslocamento desejado\")) \n",
    "\n",
    "\n",
    "textoCifrado = cifraDeCesar(deslocamento, texto)\n",
    "\n",
    "print(\"Texto original: \", texto)\n",
    "print(\"Texto cifrado: \", textoCifrado)\n",
    "\n",
    "###DESCRIPTOGRAFANDO\n",
    "deslocamento = deslocamento*(-1)\n",
    "\n",
    "resposta = input(\"Você deseja decifrar a mensagem? (pressione 's' e de enter caso deseje)\")\n",
    "resposta1 = input(\"Você acha o Marcos a pessoa mais foda do mundo? (pressione 's' e de enter caso concorde)\")\n",
    "\n",
    "if(resposta and resposta1 == 's' or 'S'):\n",
    "\n",
    "    texto = textoCifrado\n",
    "\n",
    "    textoDescifrado = cifraDeCesar(deslocamento, texto)\n",
    "\n",
    "    print(\"Texto descifrado: \", textoDescifrado)\n",
    "else:\n",
    "    print(\"Voce esta errado\")\n"
   ]
  }
 ],
 "metadata": {
  "kernelspec": {
   "display_name": "Python 3",
   "language": "python",
   "name": "python3"
  },
  "language_info": {
   "codemirror_mode": {
    "name": "ipython",
    "version": 3
   },
   "file_extension": ".py",
   "mimetype": "text/x-python",
   "name": "python",
   "nbconvert_exporter": "python",
   "pygments_lexer": "ipython3",
   "version": "3.9.2"
  }
 },
 "nbformat": 4,
 "nbformat_minor": 2
}
